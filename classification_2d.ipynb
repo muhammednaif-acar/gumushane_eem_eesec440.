{
  "nbformat": 4,
  "nbformat_minor": 0,
  "metadata": {
    "colab": {
      "name": "classification_2d.ipynb",
      "provenance": [],
      "authorship_tag": "ABX9TyOdwjUTVQHp3yx8R7c9nUxD",
      "include_colab_link": true
    },
    "kernelspec": {
      "name": "python3",
      "display_name": "Python 3"
    },
    "language_info": {
      "name": "python"
    }
  },
  "cells": [
    {
      "cell_type": "markdown",
      "metadata": {
        "id": "view-in-github",
        "colab_type": "text"
      },
      "source": [
        "<a href=\"https://colab.research.google.com/github/muhammednaif-acar/gumushane_eem_eesec440./blob/main/classification_2d.ipynb\" target=\"_parent\"><img src=\"https://colab.research.google.com/assets/colab-badge.svg\" alt=\"Open In Colab\"/></a>"
      ]
    },
    {
      "cell_type": "markdown",
      "metadata": {
        "id": "CRAkmvKn6nv7"
      },
      "source": [
        "En başta kütüphaneleri dahil ediyoruz.\n",
        "\n",
        "First we import the libraries."
      ]
    },
    {
      "cell_type": "code",
      "metadata": {
        "id": "bX356fi160ub"
      },
      "source": [
        "import tensorflow as tf # Google tarafından geliştirilen TF kütüphanesi, en ciddi rakibi Facebook tarfından geliştirilen Pytorch kütüphanesi\n",
        "import matplotlib.pyplot as plt # grafik çizdirmek için\n",
        "import numpy as np # numerical python kütüphanesi\n",
        "import pandas as pd\n",
        "import sys\n",
        "from numpy import random # rasgele veri üretmek için kullanacağımız kütüphane"
      ],
      "execution_count": null,
      "outputs": []
    },
    {
      "cell_type": "markdown",
      "metadata": {
        "id": "gO63EEBP7JBp"
      },
      "source": [
        "Bugün bakacağımız örnekte kendimiz sentetik 2-boyutlu veri üretip ardından bu veriyi etiketleyeceğiz. Üreteceğimiz 2-boyutlu veri toplam n=1000 tane olacak. Bu veri kartezyen koordinat sistemi üzerinde x ve y eksenlerinde -1'den 1'e kadar yer alan aralıkta değer alan rasgele noktalar şeklinde düşünülebilir. Kartezyen koordinat sisteminde x ekseni x1, y ekseni ise x2 isimlendirilecek. Burada x = (x1, x2)T bizim özellik vektörümüz."
      ]
    },
    {
      "cell_type": "code",
      "metadata": {
        "id": "BDz7mbHe7VxC"
      },
      "source": [
        "n = 1000 # veri sayısı n = 20 (n = 1000 bu örnek için iyi bir seçim)\n",
        "x = 2*random.rand(n,2)-1\n",
        "#print(x)\n",
        "#print(x[0,1])"
      ],
      "execution_count": null,
      "outputs": []
    },
    {
      "cell_type": "markdown",
      "metadata": {
        "id": "0nJcnY2B7gWZ"
      },
      "source": [
        "Rasgele ürettiğimiz veriyi şimdi çizdirelim.\n",
        "\n",
        "Now let's plot the randomly generated 2d data."
      ]
    },
    {
      "cell_type": "code",
      "metadata": {
        "id": "ptMHa9957o56"
      },
      "source": [
        "plt.scatter(x[:,0],x[:,1], marker='.', color='b')\n",
        "# plt.legend(loc='upper right')\n",
        "plt.title(\"Generated 2d data\")\n",
        "plt.xlabel(\"x1\")\n",
        "plt.ylabel(\"x2\")"
      ],
      "execution_count": null,
      "outputs": []
    },
    {
      "cell_type": "markdown",
      "metadata": {
        "id": "g6ZZczQ274a6"
      },
      "source": [
        "Şimdi hedef verisini (target data) oluşturalım. Yani ürettiğimiz veriyi etiketleyelim (data annotation). Sınıflandırmayı dilediğimiz gibi yapabiliriz bu örnekte. Burada biz birim çember içersinde yer alan noktaları 1, dışında kalan noktaları 0 olarak etiketleyeceğiz."
      ]
    },
    {
      "cell_type": "code",
      "metadata": {
        "id": "3JgQWZrS78JK"
      },
      "source": [
        "t = np.zeros((n,1))\n",
        "#print(t)\n",
        "for i, point in enumerate(x):\n",
        "  if (point[0]**2 + point[1]**2) >= 1:\n",
        "    t[i] = 1\n",
        "#print(\"Güncellenmiş hedef verisini yazdıralım.\")\n",
        "#print(t)"
      ],
      "execution_count": null,
      "outputs": []
    },
    {
      "cell_type": "markdown",
      "metadata": {
        "id": "PTbwbKBy7_-q"
      },
      "source": [
        "Şimdi tekrar 2b veriyi görselleştirelim ama bu sefer birim çemberin içinde kalan veriyi (yani 1 etiketine sahip olan noktaları) kırmızı renkte çizdirelim."
      ]
    },
    {
      "cell_type": "code",
      "metadata": {
        "id": "7AjA26hf8CKD"
      },
      "source": [
        "for i, label in enumerate(t):\n",
        "  if (label):\n",
        "    plt.scatter(x[i,0],x[i,1], marker='.', color='r') # edgecolors='none'\n",
        "  else:\n",
        "    plt.scatter(x[i,0],x[i,1], marker='.', color='b') # edgecolors='none'\n",
        "plt.title(\"Generated 2d data\")\n",
        "plt.xlabel(\"x1\")\n",
        "plt.ylabel(\"x2\")"
      ],
      "execution_count": null,
      "outputs": []
    },
    {
      "cell_type": "markdown",
      "metadata": {
        "id": "tvwvNPLN8jPc"
      },
      "source": [
        "TF kütüphanesinin içerisinde yer alan Keras kütüphanesiyle bir tane çok katmanlı sinir ağı (multi-layer perceptron - MLP) oluşturalım. Giriş sayısının iki, çıkış sayısının bir olduğunu, gizli katman (hidden layer) sayısını ve bu katmanlardaki nöron sayısını (number of neurons) ve de hangi aktivasyon fonksiyonunu (activation function) kullandığımızı adım adım seçeceğiz."
      ]
    },
    {
      "cell_type": "code",
      "metadata": {
        "id": "KAnekeZC8mJi"
      },
      "source": [
        "model = tf.keras.models.Sequential(layers=None, name='2d_classifier_MLP')\n",
        "model.add(tf.keras.layers.Dense(20, input_dim = 2, activation = 'tanh', name='HL1'))\n",
        "model.add(tf.keras.layers.Dense(30, activation = 'tanh', name='HL2'))\n",
        "model.add(tf.keras.layers.Dense(40, activation = 'tanh', name='HL3'))\n",
        "model.add(tf.keras.layers.Dense(30, activation = 'tanh', name='HL4'))\n",
        "model.add(tf.keras.layers.Dense(1, activation = 'tanh', name='outputLayer'))"
      ],
      "execution_count": null,
      "outputs": []
    },
    {
      "cell_type": "markdown",
      "metadata": {
        "id": "Kafr7yZd8osk"
      },
      "source": [
        "Yukarıdaki kodda yapay sinir ağımızın yapısını (structure) yani katman sayısı, katmanlardaki nöron miktarı, nöron çıkışlarında kullanılan aktivasyon fonksiyon tiplerini belirledik. Bir sonraki adım olarak öğrenme (learning) işlemini başlatacağız. Şimdi öğrenme işleminin nasıl olacağını belirleyelim."
      ]
    },
    {
      "cell_type": "code",
      "metadata": {
        "id": "z2hgJ5S38sS6"
      },
      "source": [
        "model.compile(optimizer='adam', loss='mean_squared_error', metrics='accuracy')\n",
        "model.summary()"
      ],
      "execution_count": null,
      "outputs": []
    },
    {
      "cell_type": "markdown",
      "metadata": {
        "id": "4kW3CuUv8ubR"
      },
      "source": [
        "Son olarak konfigürasyonunu tamamladığımız çok katmanlı yapay sinir ağının eğitimini başlatıyoruz."
      ]
    },
    {
      "cell_type": "code",
      "metadata": {
        "id": "lk1wPX7b8wzJ"
      },
      "source": [
        "history = model.fit(x, t, epochs=200, verbose=1, validation_split=0.2)"
      ],
      "execution_count": null,
      "outputs": []
    },
    {
      "cell_type": "code",
      "metadata": {
        "id": "2-7BrldS83pr"
      },
      "source": [
        "lossCurve = history.history[\"loss\"]\n",
        "plt.plot(lossCurve, label=\"Train\")\n",
        "# plt.legend(loc='upper right')\n",
        "plt.title(\"Loss function\")\n",
        "plt.xlabel(\"epoch number\")"
      ],
      "execution_count": null,
      "outputs": []
    },
    {
      "cell_type": "code",
      "metadata": {
        "id": "XS94E2Bf9HZ7"
      },
      "source": [
        "accuracyCurve = history.history[\"accuracy\"]\n",
        "plt.plot(accuracyCurve, label=\"Accuracy\")\n",
        "# plt.legend(loc='upper right')\n",
        "plt.ylabel(\"accuracy\")\n",
        "plt.xlabel(\"epoch number\")"
      ],
      "execution_count": null,
      "outputs": []
    },
    {
      "cell_type": "markdown",
      "metadata": {
        "id": "VE2WgsbU9L9S"
      },
      "source": [
        "Şimdi eğitimi tamamlanmış çok katmanlı yapay sinir ağımızı test edelim."
      ]
    },
    {
      "cell_type": "code",
      "metadata": {
        "id": "YGO10US89Mvr"
      },
      "source": [
        "y = model.predict(x).round()\n",
        "plt.scatter(x[:,0],x[:,1], marker='.', color='b')\n",
        "# plt.legend(loc='upper right')\n",
        "plt.title(\"Generated 2d data\")\n",
        "plt.xlabel(\"x1\")\n",
        "plt.ylabel(\"x2\")\n",
        "\n",
        "for i, label in enumerate(t):\n",
        "  if (label != y[i]):\n",
        "    plt.scatter(x[i,0],x[i,1], marker='o', color='r') # edgecolors='none'\n",
        "plt.title(\"Generated 2d data\")\n",
        "plt.xlabel(\"x1\")\n",
        "plt.ylabel(\"x2\")"
      ],
      "execution_count": null,
      "outputs": []
    }
  ]
}